{
 "cells": [
  {
   "cell_type": "code",
   "execution_count": 1,
   "id": "7716ede5-c3c0-48d0-a741-f49e48048f83",
   "metadata": {},
   "outputs": [
    {
     "name": "stdout",
     "output_type": "stream",
     "text": [
      "❗ You are running 3.11.3\n",
      "Only python versions 3.7~3.10 are currently tested, use at your own risk.\n"
     ]
    }
   ],
   "source": [
    "import scanpy as sc\n",
    "import squidpy as sq\n",
    "import spatialdata as sd\n",
    "import spatialdata_io as si\n",
    "import numpy as np\n",
    "import pandas as pd\n",
    "import anndata\n",
    "import pathlib\n",
    "import matplotlib.pyplot as plt\n",
    "import matplotlib as mpl\n",
    "import skimage\n",
    "import seaborn as sns\n",
    "import spatialdata_plot"
   ]
  },
  {
   "cell_type": "markdown",
   "id": "31eb7e78-0ef9-460d-873a-af955fad8fba",
   "metadata": {},
   "source": [
    "# Load Data"
   ]
  },
  {
   "cell_type": "code",
   "execution_count": 2,
   "id": "9088eaa8-e74e-4289-9852-d31179ae341c",
   "metadata": {},
   "outputs": [],
   "source": [
    "datasets = ['LIB5472833_SAM24434294','LIB5472834_SAM24434295', 'LIB5472835_SAM24434296',\n",
    "            'LIB5472836_SAM24434297','LIB5472837_SAM24434298','LIB5472838_SAM24434299']\n",
    "data_list=[]\n",
    "for dataset in datasets:\n",
    "    data_list.append(sd.read_zarr(f'/Users/lucast3/Documents/VisiumAnalysis/data/{dataset}_updated.zarr'))"
   ]
  },
  {
   "cell_type": "markdown",
   "id": "18c48a38-a09c-4187-8c91-f2034b41a5ba",
   "metadata": {},
   "source": [
    "# Pathology vs No Pathology TauPS2APP only"
   ]
  },
  {
   "cell_type": "code",
   "execution_count": 27,
   "id": "698fc624-851c-45d1-8fd9-24400d88513b",
   "metadata": {},
   "outputs": [
    {
     "name": "stderr",
     "output_type": "stream",
     "text": [
      "/Users/lucast3/.pyenv/versions/3.11.3/lib/python3.11/site-packages/numpy/core/fromnumeric.py:84: FutureWarning: The behavior of DataFrame.sum with axis=None is deprecated, in a future version this will reduce over both axes and return a scalar. To retain the old behavior, pass axis=0 (or do not pass axis)\n",
      "  return reduction(axis=axis, out=out, **passkwargs)\n",
      "/Users/lucast3/.pyenv/versions/3.11.3/lib/python3.11/site-packages/numpy/core/fromnumeric.py:84: FutureWarning: The behavior of DataFrame.sum with axis=None is deprecated, in a future version this will reduce over both axes and return a scalar. To retain the old behavior, pass axis=0 (or do not pass axis)\n",
      "  return reduction(axis=axis, out=out, **passkwargs)\n",
      "/Users/lucast3/.pyenv/versions/3.11.3/lib/python3.11/site-packages/numpy/core/fromnumeric.py:84: FutureWarning: The behavior of DataFrame.sum with axis=None is deprecated, in a future version this will reduce over both axes and return a scalar. To retain the old behavior, pass axis=0 (or do not pass axis)\n",
      "  return reduction(axis=axis, out=out, **passkwargs)\n",
      "/Users/lucast3/.pyenv/versions/3.11.3/lib/python3.11/site-packages/numpy/core/fromnumeric.py:84: FutureWarning: The behavior of DataFrame.sum with axis=None is deprecated, in a future version this will reduce over both axes and return a scalar. To retain the old behavior, pass axis=0 (or do not pass axis)\n",
      "  return reduction(axis=axis, out=out, **passkwargs)\n"
     ]
    }
   ],
   "source": [
    "x=0\n",
    "condition = ['TauPS2APP','TauPS2APP','TauPS2APP','NonTG','TauPS2APP','NonTG']\n",
    "\n",
    "res =[]\n",
    "for dataset,cond in zip(datasets,condition):\n",
    "    if cond == \"TauPS2APP\" :\n",
    "        sc.tl.rank_genes_groups(data_list[x].table, 'Abeta',groups=[\"Abeta\"],\n",
    "                                method='wilcoxon',reference=\"NoPathology\",pts=True)\n",
    "        group=\"Abeta\"\n",
    "        de_results = data_list[x].table.uns['rank_genes_groups']\n",
    "        groups = de_results['names'].dtype.names\n",
    "        df = pd.DataFrame({\n",
    "            'names': de_results['names'][group],\n",
    "            'logfoldchanges': de_results['logfoldchanges'][group],\n",
    "            'pvals': de_results['pvals'][group],\n",
    "            'scores':de_results['scores'][group],\n",
    "            'pvals_adj': de_results['pvals_adj'][group]\n",
    "        })\n",
    "        # Calculate necessary values for the volcano plot\n",
    "        df['-log10_pvals_adj'] = -np.log10(df['pvals_adj'])\n",
    "        df['logfoldchanges_signed'] = df['logfoldchanges']\n",
    "        df.to_csv(f'/Users/lucast3/Documents/VisiumAnalysis/data/{dataset}_AllSpotsPathologyvsNoPathology.csv')\n",
    "    x=x+1"
   ]
  },
  {
   "cell_type": "markdown",
   "id": "4e86b6ff-4e96-4d2a-b875-c17bfdda09e9",
   "metadata": {},
   "source": [
    "# Cortex: Pathology vs no Pathology"
   ]
  },
  {
   "cell_type": "code",
   "execution_count": 25,
   "id": "b62eb899-5b66-4ec0-9ed8-4b579e7dd648",
   "metadata": {},
   "outputs": [
    {
     "name": "stderr",
     "output_type": "stream",
     "text": [
      "/Users/lucast3/.pyenv/versions/3.11.3/lib/python3.11/site-packages/scanpy/tools/_rank_genes_groups.py:582: ImplicitModificationWarning: Trying to modify attribute `._uns` of view, initializing view as actual.\n",
      "  adata.uns[key_added] = {}\n",
      "/Users/lucast3/.pyenv/versions/3.11.3/lib/python3.11/site-packages/numpy/core/fromnumeric.py:84: FutureWarning: The behavior of DataFrame.sum with axis=None is deprecated, in a future version this will reduce over both axes and return a scalar. To retain the old behavior, pass axis=0 (or do not pass axis)\n",
      "  return reduction(axis=axis, out=out, **passkwargs)\n",
      "/Users/lucast3/.pyenv/versions/3.11.3/lib/python3.11/site-packages/scanpy/tools/_rank_genes_groups.py:582: ImplicitModificationWarning: Trying to modify attribute `._uns` of view, initializing view as actual.\n",
      "  adata.uns[key_added] = {}\n",
      "/Users/lucast3/.pyenv/versions/3.11.3/lib/python3.11/site-packages/numpy/core/fromnumeric.py:84: FutureWarning: The behavior of DataFrame.sum with axis=None is deprecated, in a future version this will reduce over both axes and return a scalar. To retain the old behavior, pass axis=0 (or do not pass axis)\n",
      "  return reduction(axis=axis, out=out, **passkwargs)\n",
      "/Users/lucast3/.pyenv/versions/3.11.3/lib/python3.11/site-packages/scanpy/tools/_rank_genes_groups.py:582: ImplicitModificationWarning: Trying to modify attribute `._uns` of view, initializing view as actual.\n",
      "  adata.uns[key_added] = {}\n",
      "/Users/lucast3/.pyenv/versions/3.11.3/lib/python3.11/site-packages/numpy/core/fromnumeric.py:84: FutureWarning: The behavior of DataFrame.sum with axis=None is deprecated, in a future version this will reduce over both axes and return a scalar. To retain the old behavior, pass axis=0 (or do not pass axis)\n",
      "  return reduction(axis=axis, out=out, **passkwargs)\n",
      "/Users/lucast3/.pyenv/versions/3.11.3/lib/python3.11/site-packages/scanpy/tools/_rank_genes_groups.py:582: ImplicitModificationWarning: Trying to modify attribute `._uns` of view, initializing view as actual.\n",
      "  adata.uns[key_added] = {}\n",
      "/Users/lucast3/.pyenv/versions/3.11.3/lib/python3.11/site-packages/numpy/core/fromnumeric.py:84: FutureWarning: The behavior of DataFrame.sum with axis=None is deprecated, in a future version this will reduce over both axes and return a scalar. To retain the old behavior, pass axis=0 (or do not pass axis)\n",
      "  return reduction(axis=axis, out=out, **passkwargs)\n"
     ]
    }
   ],
   "source": [
    "x=0\n",
    "condition = ['TauPS2APP','TauPS2APP','TauPS2APP','NonTG','TauPS2APP','NonTG']\n",
    "\n",
    "res =[]\n",
    "for dataset,cond in zip(datasets,condition):\n",
    "    if cond == \"TauPS2APP\" :\n",
    "        cortex = data_list[x].table[data_list[x].table.obs[\"BrainRegion\"] == \"Cortex\"]\n",
    "        \n",
    "        sc.tl.rank_genes_groups(cortex, 'Abeta',groups=[\"Abeta\"],\n",
    "                                method='wilcoxon',reference=\"NoPathology\",\n",
    "                               pts=True)\n",
    "        group=\"Abeta\"\n",
    "        de_results = cortex.uns['rank_genes_groups']\n",
    "        groups = de_results['names'].dtype.names\n",
    "        df = pd.DataFrame({\n",
    "            'names': de_results['names'][group],\n",
    "            'logfoldchanges': de_results['logfoldchanges'][group],\n",
    "            'pvals': de_results['pvals'][group],\n",
    "            'pvals_adj': de_results['pvals_adj'][group]\n",
    "        })\n",
    "        # Calculate necessary values for the volcano plot\n",
    "        df['-log10_pvals_adj'] = -np.log10(df['pvals_adj'])\n",
    "        df['logfoldchanges_signed'] = df['logfoldchanges']\n",
    "        df.to_csv(f'/Users/lucast3/Documents/VisiumAnalysis/data/{dataset}_CortexPathologyvsNoPathology.csv')\n",
    "    x=x+1"
   ]
  },
  {
   "cell_type": "markdown",
   "id": "e9bf9471-0ed5-4ea6-89f5-5432c3b85379",
   "metadata": {},
   "source": [
    "# Hippocampus: Pathology vs no Pathology"
   ]
  },
  {
   "cell_type": "code",
   "execution_count": 26,
   "id": "ef2de862-dad2-4321-8247-56f7268e2c3f",
   "metadata": {},
   "outputs": [
    {
     "name": "stderr",
     "output_type": "stream",
     "text": [
      "/Users/lucast3/.pyenv/versions/3.11.3/lib/python3.11/site-packages/scanpy/tools/_rank_genes_groups.py:582: ImplicitModificationWarning: Trying to modify attribute `._uns` of view, initializing view as actual.\n",
      "  adata.uns[key_added] = {}\n",
      "/Users/lucast3/.pyenv/versions/3.11.3/lib/python3.11/site-packages/numpy/core/fromnumeric.py:84: FutureWarning: The behavior of DataFrame.sum with axis=None is deprecated, in a future version this will reduce over both axes and return a scalar. To retain the old behavior, pass axis=0 (or do not pass axis)\n",
      "  return reduction(axis=axis, out=out, **passkwargs)\n",
      "/Users/lucast3/.pyenv/versions/3.11.3/lib/python3.11/site-packages/scanpy/tools/_rank_genes_groups.py:582: ImplicitModificationWarning: Trying to modify attribute `._uns` of view, initializing view as actual.\n",
      "  adata.uns[key_added] = {}\n",
      "/Users/lucast3/.pyenv/versions/3.11.3/lib/python3.11/site-packages/numpy/core/fromnumeric.py:84: FutureWarning: The behavior of DataFrame.sum with axis=None is deprecated, in a future version this will reduce over both axes and return a scalar. To retain the old behavior, pass axis=0 (or do not pass axis)\n",
      "  return reduction(axis=axis, out=out, **passkwargs)\n",
      "/Users/lucast3/.pyenv/versions/3.11.3/lib/python3.11/site-packages/scanpy/tools/_rank_genes_groups.py:582: ImplicitModificationWarning: Trying to modify attribute `._uns` of view, initializing view as actual.\n",
      "  adata.uns[key_added] = {}\n",
      "/Users/lucast3/.pyenv/versions/3.11.3/lib/python3.11/site-packages/numpy/core/fromnumeric.py:84: FutureWarning: The behavior of DataFrame.sum with axis=None is deprecated, in a future version this will reduce over both axes and return a scalar. To retain the old behavior, pass axis=0 (or do not pass axis)\n",
      "  return reduction(axis=axis, out=out, **passkwargs)\n",
      "/Users/lucast3/.pyenv/versions/3.11.3/lib/python3.11/site-packages/scanpy/tools/_rank_genes_groups.py:582: ImplicitModificationWarning: Trying to modify attribute `._uns` of view, initializing view as actual.\n",
      "  adata.uns[key_added] = {}\n",
      "/Users/lucast3/.pyenv/versions/3.11.3/lib/python3.11/site-packages/numpy/core/fromnumeric.py:84: FutureWarning: The behavior of DataFrame.sum with axis=None is deprecated, in a future version this will reduce over both axes and return a scalar. To retain the old behavior, pass axis=0 (or do not pass axis)\n",
      "  return reduction(axis=axis, out=out, **passkwargs)\n"
     ]
    }
   ],
   "source": [
    "x=0\n",
    "condition = ['TauPS2APP','TauPS2APP','TauPS2APP','NonTG','TauPS2APP','NonTG']\n",
    "\n",
    "res =[]\n",
    "for dataset,cond in zip(datasets,condition):\n",
    "    if cond == \"TauPS2APP\" :\n",
    "        hipp = data_list[x].table[data_list[x].table.obs[\"BrainRegion\"] == \"Hipp\"]\n",
    "        \n",
    "        sc.tl.rank_genes_groups(hipp, 'Abeta',groups=[\"Abeta\"],\n",
    "                                method='wilcoxon',reference=\"NoPathology\",\n",
    "                               pts=True)\n",
    "        group=\"Abeta\"\n",
    "        de_results = hipp.uns['rank_genes_groups']\n",
    "        groups = de_results['names'].dtype.names\n",
    "        df = pd.DataFrame({\n",
    "            'names': de_results['names'][group],\n",
    "            'logfoldchanges': de_results['logfoldchanges'][group],\n",
    "            'pvals': de_results['pvals'][group],\n",
    "            'pvals_adj': de_results['pvals_adj'][group]\n",
    "        })\n",
    "        # Calculate necessary values for the volcano plot\n",
    "        df['-log10_pvals_adj'] = -np.log10(df['pvals_adj'])\n",
    "        df['logfoldchanges_signed'] = df['logfoldchanges']\n",
    "        df.to_csv(f'/Users/lucast3/Documents/VisiumAnalysis/data/{dataset}_HippPathologyvsNoPathology.csv')\n",
    "    x=x+1"
   ]
  }
 ],
 "metadata": {
  "kernelspec": {
   "display_name": "SpatialData",
   "language": "python",
   "name": "spatialdata"
  },
  "language_info": {
   "codemirror_mode": {
    "name": "ipython",
    "version": 3
   },
   "file_extension": ".py",
   "mimetype": "text/x-python",
   "name": "python",
   "nbconvert_exporter": "python",
   "pygments_lexer": "ipython3",
   "version": "3.11.3"
  }
 },
 "nbformat": 4,
 "nbformat_minor": 5
}
