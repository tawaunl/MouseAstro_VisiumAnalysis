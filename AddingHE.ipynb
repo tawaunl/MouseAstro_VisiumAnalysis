{
 "cells": [
  {
   "cell_type": "code",
   "execution_count": 1,
   "id": "475ff0a9-a19f-4734-b7d2-2a7187b11a3b",
   "metadata": {},
   "outputs": [
    {
     "name": "stdout",
     "output_type": "stream",
     "text": [
      "❗ You are running 3.11.3\n",
      "Only python versions 3.7~3.10 are currently tested, use at your own risk.\n"
     ]
    }
   ],
   "source": [
    "import scanpy as sc\n",
    "import squidpy as sq\n",
    "import spatialdata as sd\n",
    "import spatialdata_io as si\n",
    "import numpy as np\n",
    "import pandas as pd\n",
    "import anndata\n",
    "import pathlib\n",
    "import matplotlib.pyplot as plt\n",
    "import matplotlib as mpl\n",
    "import skimage\n",
    "import seaborn as sns\n",
    "import spatialdata_plot\n",
    "from spatialdata.transformations import (\n",
    "    Affine,\n",
    "    Identity,\n",
    "    MapAxis,\n",
    "    Scale,\n",
    "    Sequence,\n",
    "    Translation,\n",
    "    get_transformation,\n",
    "    get_transformation_between_coordinate_systems,\n",
    "    set_transformation,\n",
    ")\n",
    "from spatialdata.models import ShapesModel\n",
    "from spatialdata.transformations import (\n",
    "    align_elements_using_landmarks,\n",
    "    get_transformation_between_landmarks,\n",
    ")\n",
    "from napari_spatialdata import Interactive\n"
   ]
  },
  {
   "cell_type": "markdown",
   "id": "c0ce5099-b668-4fae-b986-b637aacfbcd2",
   "metadata": {},
   "source": [
    "# Load Data"
   ]
  },
  {
   "cell_type": "code",
   "execution_count": 2,
   "id": "15808a50-6676-4223-bf6f-556e1e95f628",
   "metadata": {},
   "outputs": [],
   "source": [
    "datasets = ['LIB5472833_SAM24434294','LIB5472834_SAM24434295', 'LIB5472835_SAM24434296',\n",
    "            'LIB5472836_SAM24434297','LIB5472837_SAM24434298','LIB5472838_SAM24434299']\n",
    "data_list=[]\n",
    "for dataset in datasets:\n",
    "    data_list.append(sd.read_zarr(f'/Users/lucast3/Documents/VisiumAnalysis/data/{dataset}_updated.zarr'))"
   ]
  },
  {
   "cell_type": "markdown",
   "id": "ab981407-6264-4406-a7bb-af80177bcd41",
   "metadata": {},
   "source": [
    "# Add HE slide"
   ]
  },
  {
   "cell_type": "code",
   "execution_count": 3,
   "id": "9d4f13f3-c3ba-4afd-8815-95cd25f71475",
   "metadata": {},
   "outputs": [
    {
     "name": "stdout",
     "output_type": "stream",
     "text": [
      "\u001b[34mINFO    \u001b[0m Transposing `data` of type: \u001b[1m<\u001b[0m\u001b[1;95mclass\u001b[0m\u001b[39m \u001b[0m\u001b[32m'dask.array.core.Array'\u001b[0m\u001b[1m>\u001b[0m to \u001b[1m(\u001b[0m\u001b[32m'c'\u001b[0m, \u001b[32m'y'\u001b[0m, \u001b[32m'x'\u001b[0m\u001b[1m)\u001b[0m.                           \n",
      "\u001b[34mINFO    \u001b[0m Transposing `data` of type: \u001b[1m<\u001b[0m\u001b[1;95mclass\u001b[0m\u001b[39m \u001b[0m\u001b[32m'dask.array.core.Array'\u001b[0m\u001b[1m>\u001b[0m to \u001b[1m(\u001b[0m\u001b[32m'c'\u001b[0m, \u001b[32m'y'\u001b[0m, \u001b[32m'x'\u001b[0m\u001b[1m)\u001b[0m.                           \n",
      "\u001b[34mINFO    \u001b[0m Transposing `data` of type: \u001b[1m<\u001b[0m\u001b[1;95mclass\u001b[0m\u001b[39m \u001b[0m\u001b[32m'dask.array.core.Array'\u001b[0m\u001b[1m>\u001b[0m to \u001b[1m(\u001b[0m\u001b[32m'c'\u001b[0m, \u001b[32m'y'\u001b[0m, \u001b[32m'x'\u001b[0m\u001b[1m)\u001b[0m.                           \n",
      "\u001b[34mINFO    \u001b[0m Transposing `data` of type: \u001b[1m<\u001b[0m\u001b[1;95mclass\u001b[0m\u001b[39m \u001b[0m\u001b[32m'dask.array.core.Array'\u001b[0m\u001b[1m>\u001b[0m to \u001b[1m(\u001b[0m\u001b[32m'c'\u001b[0m, \u001b[32m'y'\u001b[0m, \u001b[32m'x'\u001b[0m\u001b[1m)\u001b[0m.                           \n",
      "\u001b[34mINFO    \u001b[0m Transposing `data` of type: \u001b[1m<\u001b[0m\u001b[1;95mclass\u001b[0m\u001b[39m \u001b[0m\u001b[32m'dask.array.core.Array'\u001b[0m\u001b[1m>\u001b[0m to \u001b[1m(\u001b[0m\u001b[32m'c'\u001b[0m, \u001b[32m'y'\u001b[0m, \u001b[32m'x'\u001b[0m\u001b[1m)\u001b[0m.                           \n",
      "\u001b[34mINFO    \u001b[0m Transposing `data` of type: \u001b[1m<\u001b[0m\u001b[1;95mclass\u001b[0m\u001b[39m \u001b[0m\u001b[32m'dask.array.core.Array'\u001b[0m\u001b[1m>\u001b[0m to \u001b[1m(\u001b[0m\u001b[32m'c'\u001b[0m, \u001b[32m'y'\u001b[0m, \u001b[32m'x'\u001b[0m\u001b[1m)\u001b[0m.                           \n"
     ]
    }
   ],
   "source": [
    "import cv2\n",
    "x=0\n",
    "# loop through each dataset adding Abeta image, metadata, and process spots using standard pipeline\n",
    "for dataset in datasets:\n",
    "    \n",
    "    #read in Hi res HE image\n",
    "    im = cv2.imread(f'/Users/lucast3/Documents/VisiumAnalysis/HE/{dataset.split(\"_\")[0]}_40x.tif')\n",
    "    \n",
    "    #Parse\n",
    "    img_sd = sd.models.Image2DModel.parse(im,\n",
    "                                  dims=(\"y\",\"x\",\"c\"))\n",
    "    #Add to object\n",
    "    data_list[x].images[\"HE_fullres\"]= img_sd\n",
    "    \n",
    "    #Transform\n",
    "    scale = Scale([0.6666667,0.6666667], axes=(\"y\",\"x\"))\n",
    "    set_transformation(data_list[x].images[\"HE_fullres\"],scale,to_coordinate_system=\"downscaled_hires\")\n",
    "    x=x+1"
   ]
  },
  {
   "cell_type": "markdown",
   "id": "464ff9c9-5a39-4104-94b3-f576185911a6",
   "metadata": {},
   "source": [
    "# Mark landmarks for each dataset"
   ]
  },
  {
   "cell_type": "markdown",
   "id": "5c073e29-18b2-4269-b80a-88a25063a101",
   "metadata": {},
   "source": [
    "## LIB5472833"
   ]
  },
  {
   "cell_type": "code",
   "execution_count": 12,
   "id": "d0833512-b538-4b46-9289-4af1528d7eec",
   "metadata": {},
   "outputs": [
    {
     "data": {
      "text/plain": [
       "<napari_spatialdata._interactive.Interactive at 0x1618f6d50>"
      ]
     },
     "execution_count": 12,
     "metadata": {},
     "output_type": "execute_result"
    }
   ],
   "source": [
    "Interactive(data_list[0])"
   ]
  },
  {
   "cell_type": "markdown",
   "id": "a09ff030-e037-4266-a601-2ee02828d2b7",
   "metadata": {},
   "source": [
    "## LIB5472834\n"
   ]
  },
  {
   "cell_type": "code",
   "execution_count": 15,
   "id": "49feab51-3ba1-4064-bd53-e532b72da2f0",
   "metadata": {},
   "outputs": [
    {
     "data": {
      "text/plain": [
       "<napari_spatialdata._interactive.Interactive at 0x157237f50>"
      ]
     },
     "execution_count": 15,
     "metadata": {},
     "output_type": "execute_result"
    }
   ],
   "source": [
    "Interactive(data_list[1])"
   ]
  },
  {
   "cell_type": "markdown",
   "id": "f7e1525e-8ff6-476a-9fb1-72aef4ccaf51",
   "metadata": {},
   "source": [
    "## LIB5472835\n"
   ]
  },
  {
   "cell_type": "code",
   "execution_count": 6,
   "id": "d199d222-b2e9-44b5-a694-e55db4896788",
   "metadata": {},
   "outputs": [
    {
     "data": {
      "text/plain": [
       "<napari_spatialdata._interactive.Interactive at 0x15ec4ac90>"
      ]
     },
     "execution_count": 6,
     "metadata": {},
     "output_type": "execute_result"
    }
   ],
   "source": [
    "Interactive(data_list[2])"
   ]
  },
  {
   "cell_type": "markdown",
   "id": "eef5a39f-e646-4295-acc8-4d7e2e9d1842",
   "metadata": {},
   "source": [
    "## LIB5472836\n"
   ]
  },
  {
   "cell_type": "code",
   "execution_count": 7,
   "id": "3ba3bda9-d819-437e-839f-47374b8f0588",
   "metadata": {},
   "outputs": [
    {
     "data": {
      "text/plain": [
       "<napari_spatialdata._interactive.Interactive at 0x1554df510>"
      ]
     },
     "execution_count": 7,
     "metadata": {},
     "output_type": "execute_result"
    }
   ],
   "source": [
    "Interactive(data_list[3])"
   ]
  },
  {
   "cell_type": "markdown",
   "id": "7d402227-53d8-4f3b-b5ee-8983f881ede2",
   "metadata": {},
   "source": [
    "## LIB5472837\n"
   ]
  },
  {
   "cell_type": "code",
   "execution_count": 8,
   "id": "f8a9bd2e-3e32-455d-80f4-783e1116e311",
   "metadata": {},
   "outputs": [
    {
     "data": {
      "text/plain": [
       "<napari_spatialdata._interactive.Interactive at 0x13e158d90>"
      ]
     },
     "execution_count": 8,
     "metadata": {},
     "output_type": "execute_result"
    }
   ],
   "source": [
    "Interactive(data_list[4])"
   ]
  },
  {
   "cell_type": "markdown",
   "id": "3dadfe22-c5b5-4954-bfd8-f07412caced6",
   "metadata": {},
   "source": [
    "## LIB5472838\n"
   ]
  },
  {
   "cell_type": "code",
   "execution_count": 24,
   "id": "59207cde-0e88-40e5-b1ea-42f1c71a22c6",
   "metadata": {},
   "outputs": [
    {
     "data": {
      "text/plain": [
       "<napari_spatialdata._interactive.Interactive at 0x17aa55150>"
      ]
     },
     "execution_count": 24,
     "metadata": {},
     "output_type": "execute_result"
    }
   ],
   "source": [
    "Interactive(data_list[5])"
   ]
  },
  {
   "cell_type": "markdown",
   "id": "9f4adb6a-e13c-4edd-8e7c-0354372e8556",
   "metadata": {},
   "source": [
    "# Align images"
   ]
  },
  {
   "cell_type": "code",
   "execution_count": 21,
   "id": "7c1a74ec-eda7-47e3-b401-d286da9389eb",
   "metadata": {},
   "outputs": [
    {
     "name": "stdout",
     "output_type": "stream",
     "text": [
      "\u001b[34mINFO    \u001b[0m The Zarr file used for backing will now change from                                                       \n",
      "         \u001b[35m/Users/lucast3/Documents/VisiumAnalysis/data/\u001b[0m\u001b[95mLIB5472834_SAM24434295_updated.zarr\u001b[0m to                       \n",
      "         \u001b[35m/Users/lucast3/Documents/VisiumAnalysis/data/\u001b[0m\u001b[95mLIB5472834_SAM24434295_Final.zarr\u001b[0m                            \n",
      "\u001b[34mINFO    \u001b[0m The Zarr file used for backing will now change from                                                       \n",
      "         \u001b[35m/Users/lucast3/Documents/VisiumAnalysis/data/\u001b[0m\u001b[95mLIB5472835_SAM24434296_updated.zarr\u001b[0m to                       \n",
      "         \u001b[35m/Users/lucast3/Documents/VisiumAnalysis/data/\u001b[0m\u001b[95mLIB5472835_SAM24434296_Final.zarr\u001b[0m                            \n",
      "\u001b[34mINFO    \u001b[0m The Zarr file used for backing will now change from                                                       \n",
      "         \u001b[35m/Users/lucast3/Documents/VisiumAnalysis/data/\u001b[0m\u001b[95mLIB5472836_SAM24434297_updated.zarr\u001b[0m to                       \n",
      "         \u001b[35m/Users/lucast3/Documents/VisiumAnalysis/data/\u001b[0m\u001b[95mLIB5472836_SAM24434297_Final.zarr\u001b[0m                            \n",
      "\u001b[34mINFO    \u001b[0m The Zarr file used for backing will now change from                                                       \n",
      "         \u001b[35m/Users/lucast3/Documents/VisiumAnalysis/data/\u001b[0m\u001b[95mLIB5472837_SAM24434298_updated.zarr\u001b[0m to                       \n",
      "         \u001b[35m/Users/lucast3/Documents/VisiumAnalysis/data/\u001b[0m\u001b[95mLIB5472837_SAM24434298_Final.zarr\u001b[0m                            \n",
      "\u001b[34mINFO    \u001b[0m The Zarr file used for backing will now change from                                                       \n",
      "         \u001b[35m/Users/lucast3/Documents/VisiumAnalysis/data/\u001b[0m\u001b[95mLIB5472838_SAM24434299_updated.zarr\u001b[0m to                       \n",
      "         \u001b[35m/Users/lucast3/Documents/VisiumAnalysis/data/\u001b[0m\u001b[95mLIB5472838_SAM24434299_Final.zarr\u001b[0m                            \n"
     ]
    }
   ],
   "source": [
    "x=0\n",
    "# loop through each dataset aligning images\n",
    "for dataset in datasets:\n",
    "    affine = get_transformation_between_landmarks(\n",
    "    references_coords=data_list[x][\"HELandmarks\"], moving_coords=data_list[x][\"AlignedLandmarks\"]\n",
    "    )\n",
    "    affine1 = align_elements_using_landmarks(\n",
    "        moving_coords=data_list[x][\"AlignedLandmarks\"],\n",
    "        references_coords=data_list[x][\"HELandmarks\"],\n",
    "        moving_element=data_list[x][f'{dataset}_hires_image'],\n",
    "        reference_element=data_list[x][\"HE_fullres\"],\n",
    "        reference_coordinate_system=\"downscaled_hires\",\n",
    "        moving_coordinate_system=\"aligned\",\n",
    "        new_coordinate_system=\"FinalAlignment\",\n",
    "    )\n",
    "    sequence=Sequence([get_transformation(data_list[x].shapes[f'{dataset}'],get_all=True)[\"aligned\"],affine])\n",
    "    set_transformation(data_list[x].shapes[f'{dataset}'],sequence,to_coordinate_system=\"FinalAlignment\")\n",
    "    \n",
    "    sequence=Sequence([get_transformation(data_list[x].images[\"AB\"],get_all=True)['aligned'], affine])\n",
    "    set_transformation(data_list[x].images[\"AB\"],sequence,to_coordinate_system=\"FinalAlignment\")\n",
    "    \n",
    "    sequence=Sequence([get_transformation(data_list[x].shapes[\"Abeta\"],get_all=True)['aligned'], affine])\n",
    "    set_transformation(data_list[x].shapes[\"Abeta\"],sequence,to_coordinate_system=\"FinalAlignment\")\n",
    "\n",
    "\n",
    "    sequence=Sequence([get_transformation(data_list[x].shapes[\"Cortex\"],get_all=True)['aligned'], affine])\n",
    "    set_transformation(data_list[x].shapes[\"Cortex\"],sequence,to_coordinate_system=\"FinalAlignment\")\n",
    "\n",
    "    sequence=Sequence([get_transformation(data_list[x].shapes[\"Hippocampus\"],get_all=True)['aligned'], affine])\n",
    "    set_transformation(data_list[x].shapes[\"Hippocampus\"],sequence,to_coordinate_system=\"FinalAlignment\")\n",
    "    \n",
    "    data_list[x].write(f'/Users/lucast3/Documents/VisiumAnalysis/data/{dataset}_Final.zarr')\n",
    "    x=x+1\n"
   ]
  }
 ],
 "metadata": {
  "kernelspec": {
   "display_name": "SpatialData_Dev",
   "language": "python",
   "name": "spatialdata_dev"
  },
  "language_info": {
   "codemirror_mode": {
    "name": "ipython",
    "version": 3
   },
   "file_extension": ".py",
   "mimetype": "text/x-python",
   "name": "python",
   "nbconvert_exporter": "python",
   "pygments_lexer": "ipython3",
   "version": "3.11.3"
  }
 },
 "nbformat": 4,
 "nbformat_minor": 5
}
